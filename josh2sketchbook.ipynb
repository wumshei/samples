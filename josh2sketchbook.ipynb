{
 "cells": [
  {
   "cell_type": "code",
   "execution_count": 5,
   "metadata": {},
   "outputs": [],
   "source": [
    "import os\n",
    "#External deps\n",
    "import pandas as pd\n",
    "import numpy as np\n",
    "import librosa\n",
    "import matplotlib.pyplot as plt\n",
    "from scipy.io import wavfile\n",
    "from python_speech_features import mfcc,logfbank\n",
    "\n",
    "from project_constants import TRAINING_CSV_FILENAME,TRAINING_DIR\n",
    "from project_constants import getPath, getFilesFromDir\n",
    "from project_constants import OUTPATH as SORTED_SAMPLES\n"
   ]
  },
  {
   "cell_type": "code",
   "execution_count": 6,
   "metadata": {},
   "outputs": [],
   "source": [
    "#FUNCTIONS\n",
    "#Seth Adams audio classification youtube tutorial\n",
    "def plot_signals(signals):\n",
    "    fig, axes = plt.subplots(nrows=2,ncols=5,sharex=False,\n",
    "    sharey = True, figsize=(20,5))\n",
    "    fig.suptitle('Time Series', size=16)\n",
    "    i = 0\n",
    "    for x in range(2):\n",
    "        for y in range(5):\n",
    "            axes[x,y].set_title(list(signals.keys())[i])\n",
    "            axes[x,y].plot(list(signals.values())[i])\n",
    "            axes[x,y].get_xaxis().set_visible(False)\n",
    "            axes[x,y].get_yaxis().set_visible(False)\n",
    "            i+=1\n",
    "\n",
    "def plot_fft(fft):\n",
    "    fig, axes = plt.subplots(nrows=2,ncols=5,sharex=False,\n",
    "    sharey = True, figsize=(20,5))\n",
    "    fig.suptitle('Fourier Transforms', size=16)\n",
    "    i = 0\n",
    "    for x in range(2):\n",
    "        for y in range(5):\n",
    "            data = list(fft.values())[i]\n",
    "            Y, freq = data[0], data[1]\n",
    "            axes[x,y].set_title(list(fft.keys())[i])\n",
    "            axes[x,y].plot(freq, Y)\n",
    "            axes[x,y].get_xaxis().set_visible(False)\n",
    "            axes[x,y].get_yaxis().set_visible(False)\n",
    "            i+=1\n",
    "\n",
    "def plot_fbank(fbank):\n",
    "    fig, axes = plt.subplots(nrows=2,ncols=5,sharex=False,\n",
    "    sharey = True, figsize=(20,5))\n",
    "    fig.suptitle('Filter Bank Coefficients', size=16)\n",
    "    i = 0\n",
    "    for x in range(2):\n",
    "        for y in range(5):\n",
    "            axes[x,y].set_title(list(fbank.keys())[i])\n",
    "            axes[x,y].imshow(list(fbank.values())[i],\n",
    "            cmap='hot', interpolation='nearest')\n",
    "            axes[x,y].get_xaxis().set_visible(False)\n",
    "            axes[x,y].get_yaxis().set_visible(False)\n",
    "            i+=1\n",
    "\n",
    "def plot_mfccs(mfccs):\n",
    "    fig, axes = plt.subplots(nrows=2,ncols=5,sharex=False,\n",
    "    sharey = True, figsize=(20,5))\n",
    "    fig.suptitle('Mel Frequency Cepstrum Coefficients', size=16)\n",
    "    i=0\n",
    "    for x in range(2):\n",
    "        for y in range(5):\n",
    "            axes[x,y].set_title(list(mfccs.keys())[i])\n",
    "            axes[x,y].imshow(list(mfccs.values())[i],\n",
    "            cmap='hot', interpolation='nearest')\n",
    "            axes[x,y].get_xaxis().set_visible(False)\n",
    "            axes[x,y].get_yaxis().set_visible(False)\n",
    "            i+=1\n",
    "\n",
    "\n"
   ]
  },
  {
   "cell_type": "code",
   "execution_count": 7,
   "metadata": {},
   "outputs": [
    {
     "name": "stderr",
     "output_type": "stream",
     "text": [
      "/var/folders/pp/k3myc5r95_9dz0rtmw8fkc0h0000gn/T/ipykernel_1676/62816579.py:7: WavFileWarning: Chunk (non-data) not understood, skipping it.\n",
      "  rate,signal = wavfile.read(f)\n"
     ]
    },
    {
     "name": "stdout",
     "output_type": "stream",
     "text": [
      "error at: ./outputs/kick/KSHMR_Signature_Kick_05_-_Secrets__E_.aif\n",
      "error at: ./outputs/snare/KSHMR_Tight_Snare_06.aif\n",
      "error at: ./outputs/snare/KSHMR_Tight_Snare_10.aif\n",
      "error at: ./outputs/snare/KSHMR_Hard_Snare_10.aif\n",
      "error at: ./outputs/perc/KSHMR_Low_Perc_06__E_.aif\n",
      "error at: ./outputs/perc/KSHMR_Hi_Perc_14.aif\n",
      "error at: ./outputs/perc/KSHMR_Hi_Perc_05.aif\n",
      "error at: ./outputs/perc/KSHMR_Hi_Perc_10__G#_.aif\n",
      "error at: ./outputs/clap/KSHMR_Claps_07_-_Tightest_Clap.aif\n"
     ]
    },
    {
     "name": "stderr",
     "output_type": "stream",
     "text": [
      "/var/folders/pp/k3myc5r95_9dz0rtmw8fkc0h0000gn/T/ipykernel_1676/62816579.py:7: WavFileWarning: Reached EOF prematurely; finished at 47944 bytes, expected 47952 bytes from header.\n",
      "  rate,signal = wavfile.read(f)\n",
      "/var/folders/pp/k3myc5r95_9dz0rtmw8fkc0h0000gn/T/ipykernel_1676/62816579.py:7: WavFileWarning: Reached EOF prematurely; finished at 73412 bytes, expected 73420 bytes from header.\n",
      "  rate,signal = wavfile.read(f)\n",
      "/var/folders/pp/k3myc5r95_9dz0rtmw8fkc0h0000gn/T/ipykernel_1676/62816579.py:7: WavFileWarning: Reached EOF prematurely; finished at 653764 bytes, expected 653772 bytes from header.\n",
      "  rate,signal = wavfile.read(f)\n",
      "/var/folders/pp/k3myc5r95_9dz0rtmw8fkc0h0000gn/T/ipykernel_1676/62816579.py:7: WavFileWarning: Reached EOF prematurely; finished at 40436 bytes, expected 40444 bytes from header.\n",
      "  rate,signal = wavfile.read(f)\n",
      "/var/folders/pp/k3myc5r95_9dz0rtmw8fkc0h0000gn/T/ipykernel_1676/62816579.py:7: WavFileWarning: Reached EOF prematurely; finished at 13268 bytes, expected 13276 bytes from header.\n",
      "  rate,signal = wavfile.read(f)\n"
     ]
    },
    {
     "name": "stdout",
     "output_type": "stream",
     "text": [
      "error at: ./outputs/clap/KSHMR_Claps_05_-_Snappy_Clap.aif\n"
     ]
    },
    {
     "name": "stderr",
     "output_type": "stream",
     "text": [
      "/var/folders/pp/k3myc5r95_9dz0rtmw8fkc0h0000gn/T/ipykernel_1676/62816579.py:7: WavFileWarning: Reached EOF prematurely; finished at 29458 bytes, expected 29466 bytes from header.\n",
      "  rate,signal = wavfile.read(f)\n",
      "/var/folders/pp/k3myc5r95_9dz0rtmw8fkc0h0000gn/T/ipykernel_1676/62816579.py:7: WavFileWarning: Reached EOF prematurely; finished at 22628 bytes, expected 22636 bytes from header.\n",
      "  rate,signal = wavfile.read(f)\n",
      "/var/folders/pp/k3myc5r95_9dz0rtmw8fkc0h0000gn/T/ipykernel_1676/62816579.py:7: WavFileWarning: Reached EOF prematurely; finished at 74660 bytes, expected 74668 bytes from header.\n",
      "  rate,signal = wavfile.read(f)\n",
      "/var/folders/pp/k3myc5r95_9dz0rtmw8fkc0h0000gn/T/ipykernel_1676/62816579.py:7: WavFileWarning: Reached EOF prematurely; finished at 50120 bytes, expected 50128 bytes from header.\n",
      "  rate,signal = wavfile.read(f)\n",
      "/var/folders/pp/k3myc5r95_9dz0rtmw8fkc0h0000gn/T/ipykernel_1676/62816579.py:7: WavFileWarning: Reached EOF prematurely; finished at 18254 bytes, expected 18262 bytes from header.\n",
      "  rate,signal = wavfile.read(f)\n",
      "/var/folders/pp/k3myc5r95_9dz0rtmw8fkc0h0000gn/T/ipykernel_1676/62816579.py:7: WavFileWarning: Reached EOF prematurely; finished at 49250 bytes, expected 49258 bytes from header.\n",
      "  rate,signal = wavfile.read(f)\n",
      "/var/folders/pp/k3myc5r95_9dz0rtmw8fkc0h0000gn/T/ipykernel_1676/62816579.py:7: WavFileWarning: Reached EOF prematurely; finished at 9062 bytes, expected 9070 bytes from header.\n",
      "  rate,signal = wavfile.read(f)\n",
      "/var/folders/pp/k3myc5r95_9dz0rtmw8fkc0h0000gn/T/ipykernel_1676/62816579.py:7: WavFileWarning: Reached EOF prematurely; finished at 17946 bytes, expected 17954 bytes from header.\n",
      "  rate,signal = wavfile.read(f)\n",
      "/var/folders/pp/k3myc5r95_9dz0rtmw8fkc0h0000gn/T/ipykernel_1676/62816579.py:7: WavFileWarning: Reached EOF prematurely; finished at 9636 bytes, expected 9644 bytes from header.\n",
      "  rate,signal = wavfile.read(f)\n",
      "/var/folders/pp/k3myc5r95_9dz0rtmw8fkc0h0000gn/T/ipykernel_1676/62816579.py:7: WavFileWarning: Reached EOF prematurely; finished at 58628 bytes, expected 58636 bytes from header.\n",
      "  rate,signal = wavfile.read(f)\n",
      "/var/folders/pp/k3myc5r95_9dz0rtmw8fkc0h0000gn/T/ipykernel_1676/62816579.py:7: WavFileWarning: Reached EOF prematurely; finished at 7164 bytes, expected 7172 bytes from header.\n",
      "  rate,signal = wavfile.read(f)\n",
      "/var/folders/pp/k3myc5r95_9dz0rtmw8fkc0h0000gn/T/ipykernel_1676/62816579.py:7: WavFileWarning: Reached EOF prematurely; finished at 631660 bytes, expected 631668 bytes from header.\n",
      "  rate,signal = wavfile.read(f)\n",
      "/var/folders/pp/k3myc5r95_9dz0rtmw8fkc0h0000gn/T/ipykernel_1676/62816579.py:7: WavFileWarning: Reached EOF prematurely; finished at 14620 bytes, expected 14628 bytes from header.\n",
      "  rate,signal = wavfile.read(f)\n",
      "/var/folders/pp/k3myc5r95_9dz0rtmw8fkc0h0000gn/T/ipykernel_1676/62816579.py:7: WavFileWarning: Reached EOF prematurely; finished at 19268 bytes, expected 19276 bytes from header.\n",
      "  rate,signal = wavfile.read(f)\n",
      "/var/folders/pp/k3myc5r95_9dz0rtmw8fkc0h0000gn/T/ipykernel_1676/62816579.py:7: WavFileWarning: Reached EOF prematurely; finished at 16052 bytes, expected 16060 bytes from header.\n",
      "  rate,signal = wavfile.read(f)\n"
     ]
    },
    {
     "name": "stdout",
     "output_type": "stream",
     "text": [
      "error at: ./outputs/hat/open_hat/KSHMR_Hi_Hats_Open_03.aif\n",
      "error at: ./outputs/hat/open_hat/KSHMR_Hi_Hats_Open_07.aif\n"
     ]
    }
   ],
   "source": [
    "#Loading data\n",
    "df = pd.read_csv(getPath(TRAINING_DIR,TRAINING_CSV_FILENAME))\n",
    "df.set_index('path', inplace=True)\n",
    "\n",
    "for f in df.index:\n",
    "    try:\n",
    "        rate,signal = wavfile.read(f)\n",
    "        df.at[f,'length'] = signal.shape[0]/rate\n",
    "    except:\n",
    "        print(f\"error at: {f}\")\n",
    "        df.at[f,'length'] = -1\n",
    "\n"
   ]
  },
  {
   "cell_type": "code",
   "execution_count": 8,
   "metadata": {},
   "outputs": [
    {
     "name": "stdout",
     "output_type": "stream",
     "text": [
      "label\n",
      "clap          0.693790\n",
      "closed_hat    0.356718\n",
      "cymbal        3.510615\n",
      "hat           0.740218\n",
      "kick          0.583666\n",
      "open_hat      1.229878\n",
      "perc          1.541913\n",
      "snare         0.637881\n",
      "Name: length, dtype: float64\n"
     ]
    },
    {
     "data": {
      "image/png": "[encoded data removed]",
      "text/plain": [
       "<Figure size 432x288 with 1 Axes>"
      ]
     },
     "metadata": {},
     "output_type": "display_data"
    }
   ],
   "source": [
    "#df.head()\n",
    "\n",
    "classes = list(np.unique(df.label))\n",
    "class_dist = df.groupby(['label'])['length'].mean()\n",
    "print(class_dist)\n",
    "\n",
    "fig,ax = plt.subplots()\n",
    "ax.set_title('Class Distribution', y=1.08)\n",
    "ax.pie(class_dist, labels=class_dist.index, autopct='%1.1f%%',\n",
    "shadow = False, startangle=90) #autopct just means how many D.P\n",
    "ax.axis('equal')\n",
    "plt.show()\n",
    "df.reset_index(inplace=True)"
   ]
  }
 ],
 "metadata": {
  "interpreter": {
   "hash": "c7800c1602e804119a7845c43c657b7c86d037f3d695d8e15bda7bb1bd4c01f9"
  },
  "kernelspec": {
   "display_name": "Python 3.8.12 64-bit ('ML': conda)",
   "language": "python",
   "name": "python3"
  },
  "language_info": {
   "codemirror_mode": {
    "name": "ipython",
    "version": 3
   },
   "file_extension": ".py",
   "mimetype": "text/x-python",
   "name": "python",
   "nbconvert_exporter": "python",
   "pygments_lexer": "ipython3",
   "version": "3.8.12"
  },
  "orig_nbformat": 4
 },
 "nbformat": 4,
 "nbformat_minor": 2
}
