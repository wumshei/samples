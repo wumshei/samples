{
 "cells": [
  {
   "cell_type": "code",
   "execution_count": 1,
   "metadata": {},
   "outputs": [],
   "source": [
    "import os\n",
    "from scipy.io import wavfile\n",
    "import pandas as pd\n",
    "import matplotlib.pyplot as plt\n",
    "import numpy as np\n",
    "from tensorflow.keras.layers import Conv2D, MaxPool2D, Flatten, LSTM\n",
    "from tensorflow.keras.layers import Dropout, Dense, TimeDistributed\n",
    "from tensorflow.keras.models import Sequential\n",
    "from tensorflow.keras.utils import to_categorical\n",
    "from sklearn.utils.class_weight import compute_class_weight\n",
    "from tqdm import tqdm\n",
    "from python_speech_features import mfcc"
   ]
  },
  {
   "cell_type": "code",
   "execution_count": 2,
   "metadata": {},
   "outputs": [],
   "source": [
    "class Config:\n",
    "    def __init__(self, mode='conv', nfilt=26, nfeat=13, nfft=512, rate=16000):\n",
    "        \"\"\"Available Modes: convolutional, recursive (time), \\n\n",
    "        nfilt = number of mel filterbank filters \\n\n",
    "        nfeat = number of features, this is the number of mfcc coefficients. usually half of the filters. \\n\n",
    "        nfft = number of ffts \\n\n",
    "        rate = sample rate of files used.\"\"\"\n",
    "        self.mode = mode\n",
    "        self.nfilt = nfilt\n",
    "        self.nfeat = nfeat\n",
    "        self.nfft = nfft\n",
    "        self.rate = rate\n",
    "        self.step = int(rate/10)"
   ]
  },
  {
   "cell_type": "code",
   "execution_count": 3,
   "metadata": {},
   "outputs": [],
   "source": [
    "def build_rand_feat():\n",
    "    X = [] #input variable\n",
    "    y = [] #target variable\n",
    "    #we will be taking slices of our inputs, and assigning the correct target variable to that slice ???\n",
    "    _min, _max = float('inf'), -float('inf')\n",
    "    #in neural nets, we want to normalise between 0 and 1 so it is good to know the min/max of features we will be processing\n",
    "    for _ in tqdm(range(n_samples)):\n",
    "        rand_class = np.random.choice(class_dist.index, p=prob_dist) #take a random class\n",
    "        file = np.random.choice(df[df.label == rand_class].index) #take a random file from that class\n",
    "        rate, wav = wavfile.read(f\"./clean/{file.split('/')[-1]}\") #read it in\n",
    "        label = df.at[file, 'label'] #get label from df index of that file\n",
    "        rand_index = 0 #random index in the wavfile ?? not sure if necessary for what i wanna do eventually but w/e\n",
    "        try: #this should succeed if step size is lower than the length of the sample\n",
    "            rand_index = np.random.randint(0, wav.shape[0]-config.step) #get a random index that can fit the step size.\n",
    "        except: #if it fails, it is because the config step is bigger than the wav shape\n",
    "            #zero padding to make sure all data is in the correct shape (atleast step_size)\n",
    "            shape = np.shape(wav) #get shape of the wav\n",
    "            padded_array = np.zeros((config.step,)) #make an array of zeroes that is the right shape\n",
    "            padded_array[:shape[0]] = wav #fill the zeroes array with the values of the wav\n",
    "            wav = padded_array #set the wav to the padded array\n",
    "        sample = wav[rand_index:rand_index+config.step] #sample we are taking is a slice of config.step starting at rand_index\n",
    "        X_sample = mfcc(sample, rate, numcep=config.nfeat, nfilt=config.nfilt, nfft=config.nfft).T #take the transpose of the mfcc with config settings onto the sample obtained above\n",
    "\n",
    "        _min = min(np.amin(X_sample), _min) #min becomes the minimum value present in our X_sample...\n",
    "        _max = max(np.amax(X_sample), _max) #and max becomes the max\n",
    "        X.append(X_sample if config.mode == 'conv' else X_sample.T)\n",
    "        y.append(classes.index(label)) #categorical cross entropy??? \n",
    "    X, y = np.array(X), np.array(y)\n",
    "    X = (X - _min) / (_max - _min)\n",
    "    if config.mode =='conv':\n",
    "        X = X.reshape(X.shape[0], X.shape[1], X.shape[2], 1)\n",
    "    elif config.mode =='time':\n",
    "        X = X.reshape(X.shape[0], X.shape[1], X.shape[2])\n",
    "    y = to_categorical(y, num_classes=len(class_dist.index))\n",
    "    return X, y\n",
    "\n",
    "def get_conv_model():\n",
    "    model = Sequential() #this is just a mode where we can add layers to the model. functional is where you tell it which layers connect to what\n",
    "    model.add(Conv2D(16, (3,3), activation='relu', strides=(1,1), \n",
    "                    padding='same', input_shape=input_shape))\n",
    "    model.add(Conv2D(32, (3,3), activation='relu', strides=(1,1),padding='same'))\n",
    "    model.add(Conv2D(64, (3,3), activation='relu', strides=(1,1),padding='same'))\n",
    "    model.add(Conv2D(128, (3,3), activation='relu', strides=(1,1),padding='same'))\n",
    "    model.add(MaxPool2D((2,2)))\n",
    "    model.add(Dropout(0.5))\n",
    "    model.add(Flatten())\n",
    "    model.add(Dense(128, activation='relu'))\n",
    "    model.add(Dense(64, activation='relu'))\n",
    "    model.add(Dense(10, activation='softmax'))\n",
    "    model.summary()\n",
    "    model.compile(loss='categorical_crossentropy', optimizer='adam', metrics=['acc'])\n",
    "    return model"
   ]
  },
  {
   "cell_type": "code",
   "execution_count": 4,
   "metadata": {},
   "outputs": [
    {
     "data": {
      "image/png": "[encoded data removed]",
      "text/plain": [
       "<Figure size 432x288 with 1 Axes>"
      ]
     },
     "metadata": {},
     "output_type": "display_data"
    },
    {
     "name": "stderr",
     "output_type": "stream",
     "text": [
      "100%|██████████| 49062/49062 [00:38<00:00, 1284.77it/s]\n"
     ]
    }
   ],
   "source": [
    "df = pd.read_csv('./training/labelled_data.csv')\n",
    "df.set_index('path', inplace=True)\n",
    "\n",
    "for f in df.index:\n",
    "    rate, signal = wavfile.read(f\"./clean/{f.split('/')[-1]}\")\n",
    "    df.at[f,'length'] = signal.shape[0]/rate\n",
    "\n",
    "classes = list(np.unique(df.label))\n",
    "class_dist = df.groupby(['label'])[\"length\"].mean()\n",
    "\n",
    "#in the video, he is only going to care about 1/10th of a second. This will probably not be feasable for my needs but just noting for later\n",
    "n_samples = 2*int(df['length'].sum()/0.1)\n",
    "prob_dist = class_dist / class_dist.sum()\n",
    "choices = np.random.choice(class_dist.index, p=prob_dist) #of our class_dist(types of drum).index, draw a random choice with the same probability as the proportion of drum samples in the class dist\n",
    "\n",
    "\n",
    "fig,ax = plt.subplots()\n",
    "ax.set_title('Class Distribution', y=1.08)\n",
    "ax.pie(class_dist, labels=class_dist.index, autopct='%1.1f%%',\n",
    "shadow = False, startangle=90)\n",
    "ax.axis('equal')\n",
    "plt.show()\n",
    "\n",
    "config = Config(mode='conv')\n",
    "\n",
    "if config.mode == 'conv':\n",
    "    X, y = build_rand_feat() #will build a feature set from random sampling\n",
    "    y_flat = np.argmax(y, axis=1) #take hot y and map back to original class encodings\n",
    "    input_shape = (X.shape[1], X.shape[2],1)\n",
    "    model = get_conv_model() #\n",
    "\n",
    "elif config.mode == 'time':\n",
    "    X, y = build_rand_feat()\n",
    "    y_flat = np.argmax(y, axis=1) #take hot y and map back to original class encodings\n",
    "    input_shape = (X.shape[1], X.shape[2])\n",
    "    model = get_recurrent_model() #\n",
    "\n",
    "class_weight = compute_class_weight('balanced', classes=np.unique(y_flat), y=y_flat) #get some weights and looks at probability distribution, so when i make this weight matrix update im going to step a little bit further in the direction in my gradient descent to compensates class imbalance, and actually learn the features of low-proportion classes\n",
    "class_weight = {i : class_weight[i] for i in range(len(class_weight))}\n",
    "\n",
    "model.fit(X,y, epochs = 10, batch_size=32, shuffle=True, class_weight=class_weight)"
   ]
  }
 ],
 "metadata": {
  "interpreter": {
   "hash": "c7800c1602e804119a7845c43c657b7c86d037f3d695d8e15bda7bb1bd4c01f9"
  },
  "kernelspec": {
   "display_name": "Python 3.8.12 64-bit ('ML': conda)",
   "language": "python",
   "name": "python3"
  },
  "language_info": {
   "codemirror_mode": {
    "name": "ipython",
    "version": 3
   },
   "file_extension": ".py",
   "mimetype": "text/x-python",
   "name": "python",
   "nbconvert_exporter": "python",
   "pygments_lexer": "ipython3",
   "version": "3.8.12"
  },
  "orig_nbformat": 4
 },
 "nbformat": 4,
 "nbformat_minor": 2
}
