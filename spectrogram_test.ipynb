{
 "cells": [
  {
   "cell_type": "code",
   "execution_count": null,
   "metadata": {},
   "outputs": [],
   "source": [
    "import tensorflow as tf\n",
    "\n",
    "def load_dataset(filenames):\n",
    "  dataset = tf.data.Dataset.from_tensor_slices(filenames)\n",
    "  return dataset\n",
    "\n",
    "\n",
    "def decode_audio(audio_binary):\n",
    "  audio, _ = tf.audio.decode_wav(audio_binary)\n",
    "  return tf.squeeze(audio, axis=-1)\n",
    "\n",
    "\n",
    "def get_label(filename):\n",
    "#   label = tf.strings.split(filename, os.path.sep)[-2]\n",
    "#   label = tf.argmax(label == commands)\n",
    "  return \n",
    "\n",
    "def get_waveform_and_label(filename):\n",
    "  label = get_label(filename)\n",
    "  audio_binary = tf.io.read_file(filename)\n",
    "  waveform = decode_audio(audio_binary)\n",
    "  return waveform, label\n",
    "\n",
    "def get_spectrogram(waveform, padding=False, min_padding=48000):\n",
    "  waveform = tf.cast(waveform, tf.float32)\n",
    "  spectrogram = tf.signal.stft(\n",
    "      waveform, frame_length=2048, frame_step=512, fft_length=2048)\n",
    "  spectrogram = tf.abs(spectrogram)\n",
    "  return spectrogram\n",
    "\n",
    "\n",
    "def get_spectrogram_tf(waveform, label):\n",
    "  spectrogram = get_spectrogram(waveform)\n",
    "  spectrogram = tf.expand_dims(spectrogram, axis=-1)\n",
    "  return spectrogram, label\n",
    "\n",
    "\n",
    "def prepare_sample(spectrogram, label):\n",
    "  spectrogram = tf.image.resize(spectrogram, [HEIGHT, WIDTH])\n",
    "  spectrogram = tf.image.grayscale_to_rgb(spectrogram)\n",
    "  return spectrogram, label\n",
    "\n",
    "\n",
    "def preprocess_dataset(files):\n",
    "    files_ds = tf.data.Dataset.from_tensor_slices(files)\n",
    "    output_ds = files_ds.map(get_waveform_and_label,\n",
    "                             num_parallel_calls=AUTOTUNE)\n",
    "    output_ds = output_ds.map(\n",
    "        get_spectrogram_and_label_id,  num_parallel_calls=AUTOTUNE)\n",
    "    return output_ds\n"
   ]
  },
  {
   "cell_type": "code",
   "execution_count": null,
   "metadata": {},
   "outputs": [],
   "source": [
    "filenames = [\"testsamples/DIGI-CLAPS/DIGI-CLAPS/Digital_Drum_machine_claps/BULLYFINGER_clap_one_shot_boss_dr220a.wav\",\n",
    "             \"testsamples/DNMO Melodic Bass/Test_Press_-_DNMO_Melodic_Bass/one-shots/drum_one-shots/claps/tp_dnmo_clap_danceable.wav\"]\n",
    "\n",
    "\n",
    "def get_dataset(filenames, batch_size=32):\n",
    "  dataset = load_dataset(filenames)\n",
    "\n",
    "  dataset = files_ds.map(get_waveform_and_label, num_parallel_calls=AUTO)\n",
    "  dataset = dataset.map(get_spectrogram_tf, num_parallel_calls=AUTO)\n",
    "  dataset = dataset.map(prepare_sample, num_parallel_calls=AUTO)\n"
   ]
  }
 ],
 "metadata": {
  "language_info": {
   "name": "python"
  },
  "orig_nbformat": 4
 },
 "nbformat": 4,
 "nbformat_minor": 2
}
